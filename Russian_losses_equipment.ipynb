{
 "cells": [
  {
   "cell_type": "code",
   "execution_count": 15,
   "id": "5becb329",
   "metadata": {},
   "outputs": [
    {
     "data": {
      "text/plain": [
       "'%.2f'"
      ]
     },
     "execution_count": 15,
     "metadata": {},
     "output_type": "execute_result"
    }
   ],
   "source": [
    "import os\n",
    "import pandas as pd\n",
    "import numpy as np\n",
    "import regex as re\n",
    "import seaborn as sns\n",
    "import matplotlib.pyplot as plt \n",
    "import warnings\n",
    "from matplotlib import style\n",
    "%matplotlib inline\n",
    "warnings.filterwarnings('ignore')\n",
    "%precision 2"
   ]
  },
  {
   "cell_type": "code",
   "execution_count": null,
   "id": "b4852586",
   "metadata": {},
   "outputs": [],
   "source": []
  },
  {
   "cell_type": "code",
   "execution_count": null,
   "id": "9673f8d5",
   "metadata": {},
   "outputs": [],
   "source": []
  },
  {
   "cell_type": "markdown",
   "id": "4d6204d0",
   "metadata": {},
   "source": [
    "# Read "
   ]
  },
  {
   "cell_type": "code",
   "execution_count": 16,
   "id": "52edfd8b",
   "metadata": {},
   "outputs": [
    {
     "data": {
      "text/html": [
       "<div>\n",
       "<style scoped>\n",
       "    .dataframe tbody tr th:only-of-type {\n",
       "        vertical-align: middle;\n",
       "    }\n",
       "\n",
       "    .dataframe tbody tr th {\n",
       "        vertical-align: top;\n",
       "    }\n",
       "\n",
       "    .dataframe thead th {\n",
       "        text-align: right;\n",
       "    }\n",
       "</style>\n",
       "<table border=\"1\" class=\"dataframe\">\n",
       "  <thead>\n",
       "    <tr style=\"text-align: right;\">\n",
       "      <th></th>\n",
       "      <th>date</th>\n",
       "      <th>day</th>\n",
       "      <th>aircraft</th>\n",
       "      <th>helicopter</th>\n",
       "      <th>tank</th>\n",
       "      <th>APC</th>\n",
       "      <th>field artillery</th>\n",
       "      <th>BUK</th>\n",
       "      <th>MRL</th>\n",
       "      <th>military auto</th>\n",
       "      <th>fuel tank</th>\n",
       "      <th>drone</th>\n",
       "      <th>naval ship</th>\n",
       "      <th>anti-aircraft warfare</th>\n",
       "      <th>special equipment</th>\n",
       "    </tr>\n",
       "  </thead>\n",
       "  <tbody>\n",
       "    <tr>\n",
       "      <th>0</th>\n",
       "      <td>2022-02-26</td>\n",
       "      <td>3</td>\n",
       "      <td>27</td>\n",
       "      <td>26</td>\n",
       "      <td>146</td>\n",
       "      <td>706</td>\n",
       "      <td>49</td>\n",
       "      <td>1</td>\n",
       "      <td>4</td>\n",
       "      <td>30</td>\n",
       "      <td>60</td>\n",
       "      <td>2</td>\n",
       "      <td>2</td>\n",
       "      <td>0</td>\n",
       "      <td>NaN</td>\n",
       "    </tr>\n",
       "    <tr>\n",
       "      <th>1</th>\n",
       "      <td>2022-02-28</td>\n",
       "      <td>5</td>\n",
       "      <td>29</td>\n",
       "      <td>29</td>\n",
       "      <td>150</td>\n",
       "      <td>816</td>\n",
       "      <td>74</td>\n",
       "      <td>1</td>\n",
       "      <td>21</td>\n",
       "      <td>291</td>\n",
       "      <td>60</td>\n",
       "      <td>3</td>\n",
       "      <td>2</td>\n",
       "      <td>5</td>\n",
       "      <td>NaN</td>\n",
       "    </tr>\n",
       "    <tr>\n",
       "      <th>2</th>\n",
       "      <td>2022-03-01</td>\n",
       "      <td>6</td>\n",
       "      <td>29</td>\n",
       "      <td>29</td>\n",
       "      <td>198</td>\n",
       "      <td>846</td>\n",
       "      <td>77</td>\n",
       "      <td>1</td>\n",
       "      <td>24</td>\n",
       "      <td>305</td>\n",
       "      <td>60</td>\n",
       "      <td>3</td>\n",
       "      <td>2</td>\n",
       "      <td>7</td>\n",
       "      <td>NaN</td>\n",
       "    </tr>\n",
       "    <tr>\n",
       "      <th>3</th>\n",
       "      <td>2022-03-02</td>\n",
       "      <td>7</td>\n",
       "      <td>30</td>\n",
       "      <td>31</td>\n",
       "      <td>211</td>\n",
       "      <td>862</td>\n",
       "      <td>85</td>\n",
       "      <td>1</td>\n",
       "      <td>40</td>\n",
       "      <td>355</td>\n",
       "      <td>60</td>\n",
       "      <td>3</td>\n",
       "      <td>2</td>\n",
       "      <td>9</td>\n",
       "      <td>NaN</td>\n",
       "    </tr>\n",
       "    <tr>\n",
       "      <th>4</th>\n",
       "      <td>2022-03-03</td>\n",
       "      <td>8</td>\n",
       "      <td>30</td>\n",
       "      <td>31</td>\n",
       "      <td>217</td>\n",
       "      <td>900</td>\n",
       "      <td>90</td>\n",
       "      <td>1</td>\n",
       "      <td>42</td>\n",
       "      <td>374</td>\n",
       "      <td>60</td>\n",
       "      <td>3</td>\n",
       "      <td>2</td>\n",
       "      <td>11</td>\n",
       "      <td>NaN</td>\n",
       "    </tr>\n",
       "  </tbody>\n",
       "</table>\n",
       "</div>"
      ],
      "text/plain": [
       "         date  day  aircraft  helicopter  tank  APC  field artillery  BUK  \\\n",
       "0  2022-02-26    3        27          26   146  706               49    1   \n",
       "1  2022-02-28    5        29          29   150  816               74    1   \n",
       "2  2022-03-01    6        29          29   198  846               77    1   \n",
       "3  2022-03-02    7        30          31   211  862               85    1   \n",
       "4  2022-03-03    8        30          31   217  900               90    1   \n",
       "\n",
       "   MRL  military auto  fuel tank  drone  naval ship  anti-aircraft warfare  \\\n",
       "0    4             30         60      2           2                      0   \n",
       "1   21            291         60      3           2                      5   \n",
       "2   24            305         60      3           2                      7   \n",
       "3   40            355         60      3           2                      9   \n",
       "4   42            374         60      3           2                     11   \n",
       "\n",
       "   special equipment  \n",
       "0                NaN  \n",
       "1                NaN  \n",
       "2                NaN  \n",
       "3                NaN  \n",
       "4                NaN  "
      ]
     },
     "execution_count": 16,
     "metadata": {},
     "output_type": "execute_result"
    }
   ],
   "source": [
    "A = pd.read_csv(\"russia_losses_equipment.csv\")\n",
    "A.head()"
   ]
  },
  {
   "cell_type": "code",
   "execution_count": 17,
   "id": "faa4c633",
   "metadata": {},
   "outputs": [
    {
     "data": {
      "text/plain": [
       "(19, 15)"
      ]
     },
     "execution_count": 17,
     "metadata": {},
     "output_type": "execute_result"
    }
   ],
   "source": [
    "A.shape"
   ]
  },
  {
   "cell_type": "code",
   "execution_count": 18,
   "id": "07da878a",
   "metadata": {},
   "outputs": [
    {
     "data": {
      "text/html": [
       "<div>\n",
       "<style scoped>\n",
       "    .dataframe tbody tr th:only-of-type {\n",
       "        vertical-align: middle;\n",
       "    }\n",
       "\n",
       "    .dataframe tbody tr th {\n",
       "        vertical-align: top;\n",
       "    }\n",
       "\n",
       "    .dataframe thead th {\n",
       "        text-align: right;\n",
       "    }\n",
       "</style>\n",
       "<table border=\"1\" class=\"dataframe\">\n",
       "  <thead>\n",
       "    <tr style=\"text-align: right;\">\n",
       "      <th></th>\n",
       "      <th>date</th>\n",
       "      <th>day</th>\n",
       "      <th>personnel</th>\n",
       "      <th>POW</th>\n",
       "      <th>personnel*</th>\n",
       "    </tr>\n",
       "  </thead>\n",
       "  <tbody>\n",
       "    <tr>\n",
       "      <th>0</th>\n",
       "      <td>2022-02-26</td>\n",
       "      <td>3</td>\n",
       "      <td>4300</td>\n",
       "      <td>NaN</td>\n",
       "      <td>NaN</td>\n",
       "    </tr>\n",
       "    <tr>\n",
       "      <th>1</th>\n",
       "      <td>2022-02-28</td>\n",
       "      <td>5</td>\n",
       "      <td>5300</td>\n",
       "      <td>NaN</td>\n",
       "      <td>NaN</td>\n",
       "    </tr>\n",
       "    <tr>\n",
       "      <th>2</th>\n",
       "      <td>2022-03-01</td>\n",
       "      <td>6</td>\n",
       "      <td>5710</td>\n",
       "      <td>200.0</td>\n",
       "      <td>NaN</td>\n",
       "    </tr>\n",
       "    <tr>\n",
       "      <th>3</th>\n",
       "      <td>2022-03-02</td>\n",
       "      <td>7</td>\n",
       "      <td>5840</td>\n",
       "      <td>NaN</td>\n",
       "      <td>NaN</td>\n",
       "    </tr>\n",
       "    <tr>\n",
       "      <th>4</th>\n",
       "      <td>2022-03-03</td>\n",
       "      <td>8</td>\n",
       "      <td>9000</td>\n",
       "      <td>NaN</td>\n",
       "      <td>NaN</td>\n",
       "    </tr>\n",
       "  </tbody>\n",
       "</table>\n",
       "</div>"
      ],
      "text/plain": [
       "         date  day  personnel    POW personnel*\n",
       "0  2022-02-26    3       4300    NaN        NaN\n",
       "1  2022-02-28    5       5300    NaN        NaN\n",
       "2  2022-03-01    6       5710  200.0        NaN\n",
       "3  2022-03-02    7       5840    NaN        NaN\n",
       "4  2022-03-03    8       9000    NaN        NaN"
      ]
     },
     "execution_count": 18,
     "metadata": {},
     "output_type": "execute_result"
    }
   ],
   "source": [
    "B= pd.read_csv(\"russia_losses_personnel.csv\")\n",
    "B.head()"
   ]
  },
  {
   "cell_type": "code",
   "execution_count": 19,
   "id": "5d163171",
   "metadata": {},
   "outputs": [
    {
     "data": {
      "text/plain": [
       "(19, 5)"
      ]
     },
     "execution_count": 19,
     "metadata": {},
     "output_type": "execute_result"
    }
   ],
   "source": [
    "B.shape"
   ]
  },
  {
   "cell_type": "code",
   "execution_count": 20,
   "id": "8f237a5a",
   "metadata": {},
   "outputs": [
    {
     "data": {
      "text/plain": [
       "Index(['date', 'day', 'aircraft', 'helicopter', 'tank', 'APC',\n",
       "       'field artillery', 'BUK', 'MRL', 'military auto', 'fuel tank', 'drone',\n",
       "       'naval ship', 'anti-aircraft warfare', 'special equipment'],\n",
       "      dtype='object')"
      ]
     },
     "execution_count": 20,
     "metadata": {},
     "output_type": "execute_result"
    }
   ],
   "source": [
    "A.columns"
   ]
  },
  {
   "cell_type": "code",
   "execution_count": 21,
   "id": "c0fdadf6",
   "metadata": {},
   "outputs": [
    {
     "data": {
      "text/plain": [
       "Index(['date', 'day', 'personnel', 'POW', 'personnel*'], dtype='object')"
      ]
     },
     "execution_count": 21,
     "metadata": {},
     "output_type": "execute_result"
    }
   ],
   "source": [
    "B.columns"
   ]
  },
  {
   "cell_type": "code",
   "execution_count": 22,
   "id": "8fd49ce0",
   "metadata": {},
   "outputs": [
    {
     "data": {
      "text/plain": [
       "Index(['date', 'day', 'aircraft', 'helicopter', 'tank', 'APC',\n",
       "       'field artillery', 'BUK', 'MRL', 'military auto', 'fuel tank', 'drone',\n",
       "       'naval ship', 'anti-aircraft warfare', 'special equipment', 'personnel',\n",
       "       'POW', 'personnel*'],\n",
       "      dtype='object')"
      ]
     },
     "execution_count": 22,
     "metadata": {},
     "output_type": "execute_result"
    }
   ],
   "source": [
    "df = pd.merge(A,B)\n",
    "df.columns"
   ]
  },
  {
   "cell_type": "code",
   "execution_count": 23,
   "id": "dcbd6aca",
   "metadata": {},
   "outputs": [
    {
     "data": {
      "text/html": [
       "<div>\n",
       "<style scoped>\n",
       "    .dataframe tbody tr th:only-of-type {\n",
       "        vertical-align: middle;\n",
       "    }\n",
       "\n",
       "    .dataframe tbody tr th {\n",
       "        vertical-align: top;\n",
       "    }\n",
       "\n",
       "    .dataframe thead th {\n",
       "        text-align: right;\n",
       "    }\n",
       "</style>\n",
       "<table border=\"1\" class=\"dataframe\">\n",
       "  <thead>\n",
       "    <tr style=\"text-align: right;\">\n",
       "      <th></th>\n",
       "      <th>date</th>\n",
       "      <th>day</th>\n",
       "      <th>aircraft</th>\n",
       "      <th>helicopter</th>\n",
       "      <th>tank</th>\n",
       "      <th>APC</th>\n",
       "      <th>field artillery</th>\n",
       "      <th>BUK</th>\n",
       "      <th>MRL</th>\n",
       "      <th>military auto</th>\n",
       "      <th>fuel tank</th>\n",
       "      <th>drone</th>\n",
       "      <th>naval ship</th>\n",
       "      <th>anti-aircraft warfare</th>\n",
       "      <th>special equipment</th>\n",
       "      <th>personnel</th>\n",
       "      <th>POW</th>\n",
       "      <th>personnel*</th>\n",
       "    </tr>\n",
       "  </thead>\n",
       "  <tbody>\n",
       "    <tr>\n",
       "      <th>0</th>\n",
       "      <td>2022-02-26</td>\n",
       "      <td>3</td>\n",
       "      <td>27</td>\n",
       "      <td>26</td>\n",
       "      <td>146</td>\n",
       "      <td>706</td>\n",
       "      <td>49</td>\n",
       "      <td>1</td>\n",
       "      <td>4</td>\n",
       "      <td>30</td>\n",
       "      <td>60</td>\n",
       "      <td>2</td>\n",
       "      <td>2</td>\n",
       "      <td>0</td>\n",
       "      <td>NaN</td>\n",
       "      <td>4300</td>\n",
       "      <td>NaN</td>\n",
       "      <td>NaN</td>\n",
       "    </tr>\n",
       "    <tr>\n",
       "      <th>1</th>\n",
       "      <td>2022-02-28</td>\n",
       "      <td>5</td>\n",
       "      <td>29</td>\n",
       "      <td>29</td>\n",
       "      <td>150</td>\n",
       "      <td>816</td>\n",
       "      <td>74</td>\n",
       "      <td>1</td>\n",
       "      <td>21</td>\n",
       "      <td>291</td>\n",
       "      <td>60</td>\n",
       "      <td>3</td>\n",
       "      <td>2</td>\n",
       "      <td>5</td>\n",
       "      <td>NaN</td>\n",
       "      <td>5300</td>\n",
       "      <td>NaN</td>\n",
       "      <td>NaN</td>\n",
       "    </tr>\n",
       "    <tr>\n",
       "      <th>2</th>\n",
       "      <td>2022-03-01</td>\n",
       "      <td>6</td>\n",
       "      <td>29</td>\n",
       "      <td>29</td>\n",
       "      <td>198</td>\n",
       "      <td>846</td>\n",
       "      <td>77</td>\n",
       "      <td>1</td>\n",
       "      <td>24</td>\n",
       "      <td>305</td>\n",
       "      <td>60</td>\n",
       "      <td>3</td>\n",
       "      <td>2</td>\n",
       "      <td>7</td>\n",
       "      <td>NaN</td>\n",
       "      <td>5710</td>\n",
       "      <td>200.0</td>\n",
       "      <td>NaN</td>\n",
       "    </tr>\n",
       "    <tr>\n",
       "      <th>3</th>\n",
       "      <td>2022-03-02</td>\n",
       "      <td>7</td>\n",
       "      <td>30</td>\n",
       "      <td>31</td>\n",
       "      <td>211</td>\n",
       "      <td>862</td>\n",
       "      <td>85</td>\n",
       "      <td>1</td>\n",
       "      <td>40</td>\n",
       "      <td>355</td>\n",
       "      <td>60</td>\n",
       "      <td>3</td>\n",
       "      <td>2</td>\n",
       "      <td>9</td>\n",
       "      <td>NaN</td>\n",
       "      <td>5840</td>\n",
       "      <td>NaN</td>\n",
       "      <td>NaN</td>\n",
       "    </tr>\n",
       "    <tr>\n",
       "      <th>4</th>\n",
       "      <td>2022-03-03</td>\n",
       "      <td>8</td>\n",
       "      <td>30</td>\n",
       "      <td>31</td>\n",
       "      <td>217</td>\n",
       "      <td>900</td>\n",
       "      <td>90</td>\n",
       "      <td>1</td>\n",
       "      <td>42</td>\n",
       "      <td>374</td>\n",
       "      <td>60</td>\n",
       "      <td>3</td>\n",
       "      <td>2</td>\n",
       "      <td>11</td>\n",
       "      <td>NaN</td>\n",
       "      <td>9000</td>\n",
       "      <td>NaN</td>\n",
       "      <td>NaN</td>\n",
       "    </tr>\n",
       "  </tbody>\n",
       "</table>\n",
       "</div>"
      ],
      "text/plain": [
       "         date  day  aircraft  helicopter  tank  APC  field artillery  BUK  \\\n",
       "0  2022-02-26    3        27          26   146  706               49    1   \n",
       "1  2022-02-28    5        29          29   150  816               74    1   \n",
       "2  2022-03-01    6        29          29   198  846               77    1   \n",
       "3  2022-03-02    7        30          31   211  862               85    1   \n",
       "4  2022-03-03    8        30          31   217  900               90    1   \n",
       "\n",
       "   MRL  military auto  fuel tank  drone  naval ship  anti-aircraft warfare  \\\n",
       "0    4             30         60      2           2                      0   \n",
       "1   21            291         60      3           2                      5   \n",
       "2   24            305         60      3           2                      7   \n",
       "3   40            355         60      3           2                      9   \n",
       "4   42            374         60      3           2                     11   \n",
       "\n",
       "   special equipment  personnel    POW personnel*  \n",
       "0                NaN       4300    NaN        NaN  \n",
       "1                NaN       5300    NaN        NaN  \n",
       "2                NaN       5710  200.0        NaN  \n",
       "3                NaN       5840    NaN        NaN  \n",
       "4                NaN       9000    NaN        NaN  "
      ]
     },
     "execution_count": 23,
     "metadata": {},
     "output_type": "execute_result"
    }
   ],
   "source": [
    "df.head()"
   ]
  },
  {
   "cell_type": "code",
   "execution_count": 24,
   "id": "df41f456",
   "metadata": {},
   "outputs": [
    {
     "data": {
      "text/plain": [
       "(19, 18)"
      ]
     },
     "execution_count": 24,
     "metadata": {},
     "output_type": "execute_result"
    }
   ],
   "source": [
    "df.shape"
   ]
  },
  {
   "cell_type": "code",
   "execution_count": 25,
   "id": "762b2f42",
   "metadata": {},
   "outputs": [
    {
     "data": {
      "text/plain": [
       "<AxesSubplot:>"
      ]
     },
     "execution_count": 25,
     "metadata": {},
     "output_type": "execute_result"
    },
    {
     "data": {
      "image/png": "[encoded data removed]",
      "text/plain": [
       "<Figure size 432x288 with 2 Axes>"
      ]
     },
     "metadata": {
      "needs_background": "light"
     },
     "output_type": "display_data"
    }
   ],
   "source": [
    "sns.heatmap(df.isnull(),yticklabels=False)"
   ]
  },
  {
   "cell_type": "markdown",
   "id": "1cebfc5c",
   "metadata": {},
   "source": [
    "# Basic Analyse"
   ]
  },
  {
   "cell_type": "code",
   "execution_count": null,
   "id": "014a4b46",
   "metadata": {},
   "outputs": [],
   "source": []
  },
  {
   "cell_type": "code",
   "execution_count": 26,
   "id": "0c343713",
   "metadata": {},
   "outputs": [
    {
     "name": "stdout",
     "output_type": "stream",
     "text": [
      "<class 'pandas.core.frame.DataFrame'>\n",
      "Int64Index: 19 entries, 0 to 18\n",
      "Data columns (total 18 columns):\n",
      " #   Column                 Non-Null Count  Dtype  \n",
      "---  ------                 --------------  -----  \n",
      " 0   date                   19 non-null     object \n",
      " 1   day                    19 non-null     int64  \n",
      " 2   aircraft               19 non-null     int64  \n",
      " 3   helicopter             19 non-null     int64  \n",
      " 4   tank                   19 non-null     int64  \n",
      " 5   APC                    19 non-null     int64  \n",
      " 6   field artillery        19 non-null     int64  \n",
      " 7   BUK                    19 non-null     int64  \n",
      " 8   MRL                    19 non-null     int64  \n",
      " 9   military auto          19 non-null     int64  \n",
      " 10  fuel tank              19 non-null     int64  \n",
      " 11  drone                  19 non-null     int64  \n",
      " 12  naval ship             19 non-null     int64  \n",
      " 13  anti-aircraft warfare  19 non-null     int64  \n",
      " 14  special equipment      2 non-null      float64\n",
      " 15  personnel              19 non-null     int64  \n",
      " 16  POW                    14 non-null     float64\n",
      " 17  personnel*             13 non-null     object \n",
      "dtypes: float64(2), int64(14), object(2)\n",
      "memory usage: 2.8+ KB\n"
     ]
    }
   ],
   "source": [
    "df.info()"
   ]
  },
  {
   "cell_type": "code",
   "execution_count": 27,
   "id": "97c3ee1b",
   "metadata": {},
   "outputs": [
    {
     "data": {
      "text/plain": [
       "date                     19\n",
       "day                      19\n",
       "aircraft                 19\n",
       "helicopter               19\n",
       "tank                     19\n",
       "APC                      19\n",
       "field artillery          19\n",
       "BUK                      19\n",
       "MRL                      19\n",
       "military auto            19\n",
       "fuel tank                19\n",
       "drone                    19\n",
       "naval ship               19\n",
       "anti-aircraft warfare    19\n",
       "special equipment         2\n",
       "personnel                19\n",
       "POW                      14\n",
       "personnel*               13\n",
       "dtype: int64"
      ]
     },
     "execution_count": 27,
     "metadata": {},
     "output_type": "execute_result"
    }
   ],
   "source": [
    "df.count()"
   ]
  },
  {
   "cell_type": "code",
   "execution_count": 28,
   "id": "1d33bd70",
   "metadata": {},
   "outputs": [
    {
     "data": {
      "text/plain": [
       "date        day  aircraft  helicopter  tank  APC   field artillery  BUK  MRL  military auto  fuel tank  drone  naval ship  anti-aircraft warfare  special equipment  personnel  POW    personnel*\n",
       "2022-03-16  21   84        108         430   1375  190              1    70   819            60         11     3           43                     10.0               13800      389.0  about         1\n",
       "2022-03-17  22   86        108         444   1435  201              1    72   864            60         11     3           43                     10.0               14000      405.0  about         1\n",
       "dtype: int64"
      ]
     },
     "execution_count": 28,
     "metadata": {},
     "output_type": "execute_result"
    }
   ],
   "source": [
    "df.value_counts()"
   ]
  },
  {
   "cell_type": "code",
   "execution_count": 29,
   "id": "3a655849",
   "metadata": {
    "scrolled": true
   },
   "outputs": [
    {
     "data": {
      "text/html": [
       "<div>\n",
       "<style scoped>\n",
       "    .dataframe tbody tr th:only-of-type {\n",
       "        vertical-align: middle;\n",
       "    }\n",
       "\n",
       "    .dataframe tbody tr th {\n",
       "        vertical-align: top;\n",
       "    }\n",
       "\n",
       "    .dataframe thead th {\n",
       "        text-align: right;\n",
       "    }\n",
       "</style>\n",
       "<table border=\"1\" class=\"dataframe\">\n",
       "  <thead>\n",
       "    <tr style=\"text-align: right;\">\n",
       "      <th></th>\n",
       "      <th>day</th>\n",
       "      <th>aircraft</th>\n",
       "      <th>helicopter</th>\n",
       "      <th>tank</th>\n",
       "      <th>APC</th>\n",
       "      <th>field artillery</th>\n",
       "      <th>BUK</th>\n",
       "      <th>MRL</th>\n",
       "      <th>military auto</th>\n",
       "      <th>fuel tank</th>\n",
       "      <th>drone</th>\n",
       "      <th>naval ship</th>\n",
       "      <th>anti-aircraft warfare</th>\n",
       "      <th>special equipment</th>\n",
       "      <th>personnel</th>\n",
       "      <th>POW</th>\n",
       "    </tr>\n",
       "  </thead>\n",
       "  <tbody>\n",
       "    <tr>\n",
       "      <th>day</th>\n",
       "      <td>1.000000</td>\n",
       "      <td>0.965674</td>\n",
       "      <td>0.967170</td>\n",
       "      <td>0.994720</td>\n",
       "      <td>0.991945</td>\n",
       "      <td>0.959798</td>\n",
       "      <td>NaN</td>\n",
       "      <td>0.921829</td>\n",
       "      <td>0.951587</td>\n",
       "      <td>NaN</td>\n",
       "      <td>0.944636</td>\n",
       "      <td>0.853546</td>\n",
       "      <td>0.988468</td>\n",
       "      <td>NaN</td>\n",
       "      <td>0.931884</td>\n",
       "      <td>0.912266</td>\n",
       "    </tr>\n",
       "    <tr>\n",
       "      <th>aircraft</th>\n",
       "      <td>0.965674</td>\n",
       "      <td>1.000000</td>\n",
       "      <td>0.932055</td>\n",
       "      <td>0.951467</td>\n",
       "      <td>0.966637</td>\n",
       "      <td>0.937365</td>\n",
       "      <td>NaN</td>\n",
       "      <td>0.818997</td>\n",
       "      <td>0.905902</td>\n",
       "      <td>NaN</td>\n",
       "      <td>0.929074</td>\n",
       "      <td>0.791561</td>\n",
       "      <td>0.932057</td>\n",
       "      <td>NaN</td>\n",
       "      <td>0.839745</td>\n",
       "      <td>0.819146</td>\n",
       "    </tr>\n",
       "    <tr>\n",
       "      <th>helicopter</th>\n",
       "      <td>0.967170</td>\n",
       "      <td>0.932055</td>\n",
       "      <td>1.000000</td>\n",
       "      <td>0.957255</td>\n",
       "      <td>0.950717</td>\n",
       "      <td>0.919126</td>\n",
       "      <td>NaN</td>\n",
       "      <td>0.857189</td>\n",
       "      <td>0.894357</td>\n",
       "      <td>NaN</td>\n",
       "      <td>0.978642</td>\n",
       "      <td>0.937455</td>\n",
       "      <td>0.967034</td>\n",
       "      <td>NaN</td>\n",
       "      <td>0.910487</td>\n",
       "      <td>0.912600</td>\n",
       "    </tr>\n",
       "    <tr>\n",
       "      <th>tank</th>\n",
       "      <td>0.994720</td>\n",
       "      <td>0.951467</td>\n",
       "      <td>0.957255</td>\n",
       "      <td>1.000000</td>\n",
       "      <td>0.985270</td>\n",
       "      <td>0.960734</td>\n",
       "      <td>NaN</td>\n",
       "      <td>0.935068</td>\n",
       "      <td>0.949924</td>\n",
       "      <td>NaN</td>\n",
       "      <td>0.931528</td>\n",
       "      <td>0.835329</td>\n",
       "      <td>0.991828</td>\n",
       "      <td>NaN</td>\n",
       "      <td>0.943519</td>\n",
       "      <td>0.894175</td>\n",
       "    </tr>\n",
       "    <tr>\n",
       "      <th>APC</th>\n",
       "      <td>0.991945</td>\n",
       "      <td>0.966637</td>\n",
       "      <td>0.950717</td>\n",
       "      <td>0.985270</td>\n",
       "      <td>1.000000</td>\n",
       "      <td>0.977788</td>\n",
       "      <td>NaN</td>\n",
       "      <td>0.907262</td>\n",
       "      <td>0.972034</td>\n",
       "      <td>NaN</td>\n",
       "      <td>0.943824</td>\n",
       "      <td>0.812544</td>\n",
       "      <td>0.978264</td>\n",
       "      <td>NaN</td>\n",
       "      <td>0.904138</td>\n",
       "      <td>0.883816</td>\n",
       "    </tr>\n",
       "    <tr>\n",
       "      <th>field artillery</th>\n",
       "      <td>0.959798</td>\n",
       "      <td>0.937365</td>\n",
       "      <td>0.919126</td>\n",
       "      <td>0.960734</td>\n",
       "      <td>0.977788</td>\n",
       "      <td>1.000000</td>\n",
       "      <td>NaN</td>\n",
       "      <td>0.907855</td>\n",
       "      <td>0.983389</td>\n",
       "      <td>NaN</td>\n",
       "      <td>0.938576</td>\n",
       "      <td>0.753874</td>\n",
       "      <td>0.961106</td>\n",
       "      <td>NaN</td>\n",
       "      <td>0.895144</td>\n",
       "      <td>0.752895</td>\n",
       "    </tr>\n",
       "    <tr>\n",
       "      <th>BUK</th>\n",
       "      <td>NaN</td>\n",
       "      <td>NaN</td>\n",
       "      <td>NaN</td>\n",
       "      <td>NaN</td>\n",
       "      <td>NaN</td>\n",
       "      <td>NaN</td>\n",
       "      <td>NaN</td>\n",
       "      <td>NaN</td>\n",
       "      <td>NaN</td>\n",
       "      <td>NaN</td>\n",
       "      <td>NaN</td>\n",
       "      <td>NaN</td>\n",
       "      <td>NaN</td>\n",
       "      <td>NaN</td>\n",
       "      <td>NaN</td>\n",
       "      <td>NaN</td>\n",
       "    </tr>\n",
       "    <tr>\n",
       "      <th>MRL</th>\n",
       "      <td>0.921829</td>\n",
       "      <td>0.818997</td>\n",
       "      <td>0.857189</td>\n",
       "      <td>0.935068</td>\n",
       "      <td>0.907262</td>\n",
       "      <td>0.907855</td>\n",
       "      <td>NaN</td>\n",
       "      <td>1.000000</td>\n",
       "      <td>0.931636</td>\n",
       "      <td>NaN</td>\n",
       "      <td>0.821910</td>\n",
       "      <td>0.745999</td>\n",
       "      <td>0.946158</td>\n",
       "      <td>NaN</td>\n",
       "      <td>0.949839</td>\n",
       "      <td>0.829334</td>\n",
       "    </tr>\n",
       "    <tr>\n",
       "      <th>military auto</th>\n",
       "      <td>0.951587</td>\n",
       "      <td>0.905902</td>\n",
       "      <td>0.894357</td>\n",
       "      <td>0.949924</td>\n",
       "      <td>0.972034</td>\n",
       "      <td>0.983389</td>\n",
       "      <td>NaN</td>\n",
       "      <td>0.931636</td>\n",
       "      <td>1.000000</td>\n",
       "      <td>NaN</td>\n",
       "      <td>0.910817</td>\n",
       "      <td>0.734803</td>\n",
       "      <td>0.952009</td>\n",
       "      <td>NaN</td>\n",
       "      <td>0.891329</td>\n",
       "      <td>0.794845</td>\n",
       "    </tr>\n",
       "    <tr>\n",
       "      <th>fuel tank</th>\n",
       "      <td>NaN</td>\n",
       "      <td>NaN</td>\n",
       "      <td>NaN</td>\n",
       "      <td>NaN</td>\n",
       "      <td>NaN</td>\n",
       "      <td>NaN</td>\n",
       "      <td>NaN</td>\n",
       "      <td>NaN</td>\n",
       "      <td>NaN</td>\n",
       "      <td>NaN</td>\n",
       "      <td>NaN</td>\n",
       "      <td>NaN</td>\n",
       "      <td>NaN</td>\n",
       "      <td>NaN</td>\n",
       "      <td>NaN</td>\n",
       "      <td>NaN</td>\n",
       "    </tr>\n",
       "    <tr>\n",
       "      <th>drone</th>\n",
       "      <td>0.944636</td>\n",
       "      <td>0.929074</td>\n",
       "      <td>0.978642</td>\n",
       "      <td>0.931528</td>\n",
       "      <td>0.943824</td>\n",
       "      <td>0.938576</td>\n",
       "      <td>NaN</td>\n",
       "      <td>0.821910</td>\n",
       "      <td>0.910817</td>\n",
       "      <td>NaN</td>\n",
       "      <td>1.000000</td>\n",
       "      <td>0.897369</td>\n",
       "      <td>0.938073</td>\n",
       "      <td>NaN</td>\n",
       "      <td>0.870091</td>\n",
       "      <td>0.816453</td>\n",
       "    </tr>\n",
       "    <tr>\n",
       "      <th>naval ship</th>\n",
       "      <td>0.853546</td>\n",
       "      <td>0.791561</td>\n",
       "      <td>0.937455</td>\n",
       "      <td>0.835329</td>\n",
       "      <td>0.812544</td>\n",
       "      <td>0.753874</td>\n",
       "      <td>NaN</td>\n",
       "      <td>0.745999</td>\n",
       "      <td>0.734803</td>\n",
       "      <td>NaN</td>\n",
       "      <td>0.897369</td>\n",
       "      <td>1.000000</td>\n",
       "      <td>0.856689</td>\n",
       "      <td>NaN</td>\n",
       "      <td>0.819365</td>\n",
       "      <td>0.830816</td>\n",
       "    </tr>\n",
       "    <tr>\n",
       "      <th>anti-aircraft warfare</th>\n",
       "      <td>0.988468</td>\n",
       "      <td>0.932057</td>\n",
       "      <td>0.967034</td>\n",
       "      <td>0.991828</td>\n",
       "      <td>0.978264</td>\n",
       "      <td>0.961106</td>\n",
       "      <td>NaN</td>\n",
       "      <td>0.946158</td>\n",
       "      <td>0.952009</td>\n",
       "      <td>NaN</td>\n",
       "      <td>0.938073</td>\n",
       "      <td>0.856689</td>\n",
       "      <td>1.000000</td>\n",
       "      <td>NaN</td>\n",
       "      <td>0.960837</td>\n",
       "      <td>0.892262</td>\n",
       "    </tr>\n",
       "    <tr>\n",
       "      <th>special equipment</th>\n",
       "      <td>NaN</td>\n",
       "      <td>NaN</td>\n",
       "      <td>NaN</td>\n",
       "      <td>NaN</td>\n",
       "      <td>NaN</td>\n",
       "      <td>NaN</td>\n",
       "      <td>NaN</td>\n",
       "      <td>NaN</td>\n",
       "      <td>NaN</td>\n",
       "      <td>NaN</td>\n",
       "      <td>NaN</td>\n",
       "      <td>NaN</td>\n",
       "      <td>NaN</td>\n",
       "      <td>NaN</td>\n",
       "      <td>NaN</td>\n",
       "      <td>NaN</td>\n",
       "    </tr>\n",
       "    <tr>\n",
       "      <th>personnel</th>\n",
       "      <td>0.931884</td>\n",
       "      <td>0.839745</td>\n",
       "      <td>0.910487</td>\n",
       "      <td>0.943519</td>\n",
       "      <td>0.904138</td>\n",
       "      <td>0.895144</td>\n",
       "      <td>NaN</td>\n",
       "      <td>0.949839</td>\n",
       "      <td>0.891329</td>\n",
       "      <td>NaN</td>\n",
       "      <td>0.870091</td>\n",
       "      <td>0.819365</td>\n",
       "      <td>0.960837</td>\n",
       "      <td>NaN</td>\n",
       "      <td>1.000000</td>\n",
       "      <td>0.784153</td>\n",
       "    </tr>\n",
       "    <tr>\n",
       "      <th>POW</th>\n",
       "      <td>0.912266</td>\n",
       "      <td>0.819146</td>\n",
       "      <td>0.912600</td>\n",
       "      <td>0.894175</td>\n",
       "      <td>0.883816</td>\n",
       "      <td>0.752895</td>\n",
       "      <td>NaN</td>\n",
       "      <td>0.829334</td>\n",
       "      <td>0.794845</td>\n",
       "      <td>NaN</td>\n",
       "      <td>0.816453</td>\n",
       "      <td>0.830816</td>\n",
       "      <td>0.892262</td>\n",
       "      <td>NaN</td>\n",
       "      <td>0.784153</td>\n",
       "      <td>1.000000</td>\n",
       "    </tr>\n",
       "  </tbody>\n",
       "</table>\n",
       "</div>"
      ],
      "text/plain": [
       "                            day  aircraft  helicopter      tank       APC  \\\n",
       "day                    1.000000  0.965674    0.967170  0.994720  0.991945   \n",
       "aircraft               0.965674  1.000000    0.932055  0.951467  0.966637   \n",
       "helicopter             0.967170  0.932055    1.000000  0.957255  0.950717   \n",
       "tank                   0.994720  0.951467    0.957255  1.000000  0.985270   \n",
       "APC                    0.991945  0.966637    0.950717  0.985270  1.000000   \n",
       "field artillery        0.959798  0.937365    0.919126  0.960734  0.977788   \n",
       "BUK                         NaN       NaN         NaN       NaN       NaN   \n",
       "MRL                    0.921829  0.818997    0.857189  0.935068  0.907262   \n",
       "military auto          0.951587  0.905902    0.894357  0.949924  0.972034   \n",
       "fuel tank                   NaN       NaN         NaN       NaN       NaN   \n",
       "drone                  0.944636  0.929074    0.978642  0.931528  0.943824   \n",
       "naval ship             0.853546  0.791561    0.937455  0.835329  0.812544   \n",
       "anti-aircraft warfare  0.988468  0.932057    0.967034  0.991828  0.978264   \n",
       "special equipment           NaN       NaN         NaN       NaN       NaN   \n",
       "personnel              0.931884  0.839745    0.910487  0.943519  0.904138   \n",
       "POW                    0.912266  0.819146    0.912600  0.894175  0.883816   \n",
       "\n",
       "                       field artillery  BUK       MRL  military auto  \\\n",
       "day                           0.959798  NaN  0.921829       0.951587   \n",
       "aircraft                      0.937365  NaN  0.818997       0.905902   \n",
       "helicopter                    0.919126  NaN  0.857189       0.894357   \n",
       "tank                          0.960734  NaN  0.935068       0.949924   \n",
       "APC                           0.977788  NaN  0.907262       0.972034   \n",
       "field artillery               1.000000  NaN  0.907855       0.983389   \n",
       "BUK                                NaN  NaN       NaN            NaN   \n",
       "MRL                           0.907855  NaN  1.000000       0.931636   \n",
       "military auto                 0.983389  NaN  0.931636       1.000000   \n",
       "fuel tank                          NaN  NaN       NaN            NaN   \n",
       "drone                         0.938576  NaN  0.821910       0.910817   \n",
       "naval ship                    0.753874  NaN  0.745999       0.734803   \n",
       "anti-aircraft warfare         0.961106  NaN  0.946158       0.952009   \n",
       "special equipment                  NaN  NaN       NaN            NaN   \n",
       "personnel                     0.895144  NaN  0.949839       0.891329   \n",
       "POW                           0.752895  NaN  0.829334       0.794845   \n",
       "\n",
       "                       fuel tank     drone  naval ship  anti-aircraft warfare  \\\n",
       "day                          NaN  0.944636    0.853546               0.988468   \n",
       "aircraft                     NaN  0.929074    0.791561               0.932057   \n",
       "helicopter                   NaN  0.978642    0.937455               0.967034   \n",
       "tank                         NaN  0.931528    0.835329               0.991828   \n",
       "APC                          NaN  0.943824    0.812544               0.978264   \n",
       "field artillery              NaN  0.938576    0.753874               0.961106   \n",
       "BUK                          NaN       NaN         NaN                    NaN   \n",
       "MRL                          NaN  0.821910    0.745999               0.946158   \n",
       "military auto                NaN  0.910817    0.734803               0.952009   \n",
       "fuel tank                    NaN       NaN         NaN                    NaN   \n",
       "drone                        NaN  1.000000    0.897369               0.938073   \n",
       "naval ship                   NaN  0.897369    1.000000               0.856689   \n",
       "anti-aircraft warfare        NaN  0.938073    0.856689               1.000000   \n",
       "special equipment            NaN       NaN         NaN                    NaN   \n",
       "personnel                    NaN  0.870091    0.819365               0.960837   \n",
       "POW                          NaN  0.816453    0.830816               0.892262   \n",
       "\n",
       "                       special equipment  personnel       POW  \n",
       "day                                  NaN   0.931884  0.912266  \n",
       "aircraft                             NaN   0.839745  0.819146  \n",
       "helicopter                           NaN   0.910487  0.912600  \n",
       "tank                                 NaN   0.943519  0.894175  \n",
       "APC                                  NaN   0.904138  0.883816  \n",
       "field artillery                      NaN   0.895144  0.752895  \n",
       "BUK                                  NaN        NaN       NaN  \n",
       "MRL                                  NaN   0.949839  0.829334  \n",
       "military auto                        NaN   0.891329  0.794845  \n",
       "fuel tank                            NaN        NaN       NaN  \n",
       "drone                                NaN   0.870091  0.816453  \n",
       "naval ship                           NaN   0.819365  0.830816  \n",
       "anti-aircraft warfare                NaN   0.960837  0.892262  \n",
       "special equipment                    NaN        NaN       NaN  \n",
       "personnel                            NaN   1.000000  0.784153  \n",
       "POW                                  NaN   0.784153  1.000000  "
      ]
     },
     "execution_count": 29,
     "metadata": {},
     "output_type": "execute_result"
    }
   ],
   "source": [
    "df.corr()"
   ]
  },
  {
   "cell_type": "code",
   "execution_count": 30,
   "id": "68e59f9b",
   "metadata": {},
   "outputs": [
    {
     "data": {
      "text/plain": [
       "<AxesSubplot:>"
      ]
     },
     "execution_count": 30,
     "metadata": {},
     "output_type": "execute_result"
    },
    {
     "data": {
      "image/png": "[encoded data removed]",
      "text/plain": [
       "<Figure size 720x720 with 2 Axes>"
      ]
     },
     "metadata": {
      "needs_background": "light"
     },
     "output_type": "display_data"
    }
   ],
   "source": [
    "figure= plt.figure(figsize=(10,10))\n",
    "sns.heatmap(df.corr(),annot=True,cmap = \"CMRmap\")"
   ]
  },
  {
   "cell_type": "code",
   "execution_count": 31,
   "id": "aa0ad28c",
   "metadata": {},
   "outputs": [
    {
     "data": {
      "text/plain": [
       "array([[<AxesSubplot:title={'center':'day'}>,\n",
       "        <AxesSubplot:title={'center':'aircraft'}>,\n",
       "        <AxesSubplot:title={'center':'helicopter'}>,\n",
       "        <AxesSubplot:title={'center':'tank'}>],\n",
       "       [<AxesSubplot:title={'center':'APC'}>,\n",
       "        <AxesSubplot:title={'center':'field artillery'}>,\n",
       "        <AxesSubplot:title={'center':'BUK'}>,\n",
       "        <AxesSubplot:title={'center':'MRL'}>],\n",
       "       [<AxesSubplot:title={'center':'military auto'}>,\n",
       "        <AxesSubplot:title={'center':'fuel tank'}>,\n",
       "        <AxesSubplot:title={'center':'drone'}>,\n",
       "        <AxesSubplot:title={'center':'naval ship'}>],\n",
       "       [<AxesSubplot:title={'center':'anti-aircraft warfare'}>,\n",
       "        <AxesSubplot:title={'center':'special equipment'}>,\n",
       "        <AxesSubplot:title={'center':'personnel'}>,\n",
       "        <AxesSubplot:title={'center':'POW'}>]], dtype=object)"
      ]
     },
     "execution_count": 31,
     "metadata": {},
     "output_type": "execute_result"
    },
    {
     "data": {
      "image/png": "[encoded data removed]",
      "text/plain": [
       "<Figure size 1440x720 with 16 Axes>"
      ]
     },
     "metadata": {
      "needs_background": "light"
     },
     "output_type": "display_data"
    }
   ],
   "source": [
    "df.hist(figsize=(20,10))"
   ]
  },
  {
   "cell_type": "code",
   "execution_count": 32,
   "id": "78545c63",
   "metadata": {},
   "outputs": [
    {
     "data": {
      "text/plain": [
       "date   day    aircraft  helicopter  tank   APC    field artillery  BUK    MRL    military auto  fuel tank  drone  naval ship  anti-aircraft warfare  special equipment  personnel  POW    personnel*\n",
       "False  False  False     False       False  False  False            False  False  False          False      False  False       False                  True               False      False  False         11\n",
       "                                                                                                                                                                                   True   True           5\n",
       "                                                                                                                                                     False              False      False  False          2\n",
       "                                                                                                                                                     True               False      False  True           1\n",
       "dtype: int64"
      ]
     },
     "execution_count": 32,
     "metadata": {},
     "output_type": "execute_result"
    }
   ],
   "source": [
    "df.isnull().value_counts()"
   ]
  },
  {
   "cell_type": "code",
   "execution_count": 33,
   "id": "aa93d70b",
   "metadata": {},
   "outputs": [
    {
     "data": {
      "text/plain": [
       "<AxesSubplot:>"
      ]
     },
     "execution_count": 33,
     "metadata": {},
     "output_type": "execute_result"
    },
    {
     "data": {
      "image/png": "[encoded data removed]",
      "text/plain": [
       "<Figure size 1440x360 with 2 Axes>"
      ]
     },
     "metadata": {
      "needs_background": "light"
     },
     "output_type": "display_data"
    }
   ],
   "source": [
    "figure=plt.figure(figsize=(20,5))\n",
    "sns.heatmap(df.isnull(),cbar=True,yticklabels=False,cmap='Oranges')"
   ]
  },
  {
   "cell_type": "code",
   "execution_count": 34,
   "id": "6893f69f",
   "metadata": {},
   "outputs": [
    {
     "data": {
      "text/plain": [
       "<AxesSubplot:>"
      ]
     },
     "execution_count": 34,
     "metadata": {},
     "output_type": "execute_result"
    },
    {
     "data": {
      "image/png": "[encoded data removed]",
      "text/plain": [
       "<Figure size 720x720 with 1 Axes>"
      ]
     },
     "metadata": {
      "needs_background": "light"
     },
     "output_type": "display_data"
    }
   ],
   "source": [
    "df.plot(figsize=(10,10))"
   ]
  },
  {
   "cell_type": "code",
   "execution_count": 35,
   "id": "d6556933",
   "metadata": {},
   "outputs": [
    {
     "data": {
      "text/html": [
       "<div>\n",
       "<style scoped>\n",
       "    .dataframe tbody tr th:only-of-type {\n",
       "        vertical-align: middle;\n",
       "    }\n",
       "\n",
       "    .dataframe tbody tr th {\n",
       "        vertical-align: top;\n",
       "    }\n",
       "\n",
       "    .dataframe thead th {\n",
       "        text-align: right;\n",
       "    }\n",
       "</style>\n",
       "<table border=\"1\" class=\"dataframe\">\n",
       "  <thead>\n",
       "    <tr style=\"text-align: right;\">\n",
       "      <th></th>\n",
       "      <th>date</th>\n",
       "      <th>day</th>\n",
       "      <th>aircraft</th>\n",
       "      <th>helicopter</th>\n",
       "      <th>tank</th>\n",
       "      <th>APC</th>\n",
       "      <th>field artillery</th>\n",
       "      <th>BUK</th>\n",
       "      <th>MRL</th>\n",
       "      <th>military auto</th>\n",
       "      <th>fuel tank</th>\n",
       "      <th>drone</th>\n",
       "      <th>naval ship</th>\n",
       "      <th>anti-aircraft warfare</th>\n",
       "      <th>special equipment</th>\n",
       "      <th>personnel</th>\n",
       "      <th>POW</th>\n",
       "      <th>personnel*</th>\n",
       "    </tr>\n",
       "  </thead>\n",
       "  <tbody>\n",
       "    <tr>\n",
       "      <th>17</th>\n",
       "      <td>2022-03-16</td>\n",
       "      <td>21</td>\n",
       "      <td>84</td>\n",
       "      <td>108</td>\n",
       "      <td>430</td>\n",
       "      <td>1375</td>\n",
       "      <td>190</td>\n",
       "      <td>1</td>\n",
       "      <td>70</td>\n",
       "      <td>819</td>\n",
       "      <td>60</td>\n",
       "      <td>11</td>\n",
       "      <td>3</td>\n",
       "      <td>43</td>\n",
       "      <td>10.0</td>\n",
       "      <td>13800</td>\n",
       "      <td>389.0</td>\n",
       "      <td>about</td>\n",
       "    </tr>\n",
       "    <tr>\n",
       "      <th>18</th>\n",
       "      <td>2022-03-17</td>\n",
       "      <td>22</td>\n",
       "      <td>86</td>\n",
       "      <td>108</td>\n",
       "      <td>444</td>\n",
       "      <td>1435</td>\n",
       "      <td>201</td>\n",
       "      <td>1</td>\n",
       "      <td>72</td>\n",
       "      <td>864</td>\n",
       "      <td>60</td>\n",
       "      <td>11</td>\n",
       "      <td>3</td>\n",
       "      <td>43</td>\n",
       "      <td>10.0</td>\n",
       "      <td>14000</td>\n",
       "      <td>405.0</td>\n",
       "      <td>about</td>\n",
       "    </tr>\n",
       "  </tbody>\n",
       "</table>\n",
       "</div>"
      ],
      "text/plain": [
       "          date  day  aircraft  helicopter  tank   APC  field artillery  BUK  \\\n",
       "17  2022-03-16   21        84         108   430  1375              190    1   \n",
       "18  2022-03-17   22        86         108   444  1435              201    1   \n",
       "\n",
       "    MRL  military auto  fuel tank  drone  naval ship  anti-aircraft warfare  \\\n",
       "17   70            819         60     11           3                     43   \n",
       "18   72            864         60     11           3                     43   \n",
       "\n",
       "    special equipment  personnel    POW personnel*  \n",
       "17               10.0      13800  389.0      about  \n",
       "18               10.0      14000  405.0      about  "
      ]
     },
     "execution_count": 35,
     "metadata": {},
     "output_type": "execute_result"
    }
   ],
   "source": [
    "df.dropna()"
   ]
  },
  {
   "cell_type": "code",
   "execution_count": null,
   "id": "15d78875",
   "metadata": {},
   "outputs": [],
   "source": []
  },
  {
   "cell_type": "markdown",
   "id": "4a7c663c",
   "metadata": {},
   "source": [
    "# Problem solving\n"
   ]
  },
  {
   "cell_type": "markdown",
   "id": "3f389d7e",
   "metadata": {},
   "source": [
    "#### Find the week days and and find the total number of week covered using day "
   ]
  },
  {
   "cell_type": "code",
   "execution_count": 36,
   "id": "f27731f2",
   "metadata": {},
   "outputs": [
    {
     "data": {
      "text/plain": [
       "str"
      ]
     },
     "execution_count": 36,
     "metadata": {},
     "output_type": "execute_result"
    }
   ],
   "source": [
    "type(df['date'].iloc[0])"
   ]
  },
  {
   "cell_type": "code",
   "execution_count": 37,
   "id": "85bc7ca7",
   "metadata": {},
   "outputs": [
    {
     "data": {
      "text/plain": [
       "0   2022-02-26\n",
       "1   2022-02-28\n",
       "2   2022-03-01\n",
       "3   2022-03-02\n",
       "4   2022-03-03\n",
       "Name: week, dtype: datetime64[ns]"
      ]
     },
     "execution_count": 37,
     "metadata": {},
     "output_type": "execute_result"
    }
   ],
   "source": [
    "df['week']=pd.to_datetime(df['date'])\n",
    "df['week'].head()"
   ]
  },
  {
   "cell_type": "code",
   "execution_count": 38,
   "id": "b675ec86",
   "metadata": {},
   "outputs": [],
   "source": [
    "df['Day of Week'] = df['week'].apply(lambda time:time.dayofweek)"
   ]
  },
  {
   "cell_type": "code",
   "execution_count": 39,
   "id": "d6da2297",
   "metadata": {},
   "outputs": [],
   "source": [
    "dmap = {0:'Mon',1:'Tue',2:'Wed',3:'Thu',4:'Fri',5:'Sat',6:'Sun'}\n",
    "df['Day of Week'] = df['Day of Week'].apply(lambda int:dmap[int])"
   ]
  },
  {
   "cell_type": "code",
   "execution_count": 40,
   "id": "081d112e",
   "metadata": {},
   "outputs": [],
   "source": [
    "df.drop('week',inplace=True, axis=1)"
   ]
  },
  {
   "cell_type": "code",
   "execution_count": 41,
   "id": "805f14c8",
   "metadata": {},
   "outputs": [
    {
     "data": {
      "text/plain": [
       "<bound method NDFrame.head of           date  day  aircraft  helicopter  tank   APC  field artillery  BUK  \\\n",
       "0   2022-02-26    3        27          26   146   706               49    1   \n",
       "1   2022-02-28    5        29          29   150   816               74    1   \n",
       "2   2022-03-01    6        29          29   198   846               77    1   \n",
       "3   2022-03-02    7        30          31   211   862               85    1   \n",
       "4   2022-03-03    8        30          31   217   900               90    1   \n",
       "5   2022-03-04    9        33          37   251   939              105    1   \n",
       "6   2022-03-05   10        39          40   269   945              105    1   \n",
       "7   2022-03-06   11        44          48   285   985              109    1   \n",
       "8   2022-03-07   12        46          68   290   999              117    1   \n",
       "9   2022-03-08   13        48          80   303  1036              120    1   \n",
       "10  2022-03-09   14        49          81   317  1070              120    1   \n",
       "11  2022-03-10   15        49          81   335  1105              123    1   \n",
       "12  2022-03-11   16        57          83   353  1165              125    1   \n",
       "13  2022-03-12   17        58          83   362  1205              135    1   \n",
       "14  2022-03-13   18        74          86   374  1226              140    1   \n",
       "15  2022-03-14   19        77          90   389  1249              150    1   \n",
       "16  2022-03-15   20        81          95   404  1279              150    1   \n",
       "17  2022-03-16   21        84         108   430  1375              190    1   \n",
       "18  2022-03-17   22        86         108   444  1435              201    1   \n",
       "\n",
       "    MRL  military auto  fuel tank  drone  naval ship  anti-aircraft warfare  \\\n",
       "0     4             30         60      2           2                      0   \n",
       "1    21            291         60      3           2                      5   \n",
       "2    24            305         60      3           2                      7   \n",
       "3    40            355         60      3           2                      9   \n",
       "4    42            374         60      3           2                     11   \n",
       "5    50            404         60      3           2                     18   \n",
       "6    50            409         60      3           2                     19   \n",
       "7    50            447         60      4           2                     21   \n",
       "8    50            454         60      7           3                     23   \n",
       "9    56            474         60      7           3                     27   \n",
       "10   56            482         60      7           3                     28   \n",
       "11   56            526         60      7           3                     29   \n",
       "12   58            558         60      7           3                     31   \n",
       "13   62            585         60      7           3                     33   \n",
       "14   62            600         60      7           3                     34   \n",
       "15   64            617         60      8           3                     34   \n",
       "16   64            640         60      9           3                     36   \n",
       "17   70            819         60     11           3                     43   \n",
       "18   72            864         60     11           3                     43   \n",
       "\n",
       "    special equipment  personnel    POW personnel* Day of Week  \n",
       "0                 NaN       4300    NaN        NaN         Sat  \n",
       "1                 NaN       5300    NaN        NaN         Mon  \n",
       "2                 NaN       5710  200.0        NaN         Tue  \n",
       "3                 NaN       5840    NaN        NaN         Wed  \n",
       "4                 NaN       9000    NaN        NaN         Thu  \n",
       "5                 NaN       9166    NaN        NaN         Fri  \n",
       "6                 NaN      10000  216.0      about         Sat  \n",
       "7                 NaN      11000  232.0      about         Sun  \n",
       "8                 NaN      11000  259.0       more         Mon  \n",
       "9                 NaN      12000  284.0      about         Tue  \n",
       "10                NaN      12000  360.0      about         Wed  \n",
       "11                NaN      12000  371.0       more         Thu  \n",
       "12                NaN      12000  389.0       more         Fri  \n",
       "13                NaN      12000  389.0       more         Sat  \n",
       "14                NaN      12000  389.0       more         Sun  \n",
       "15                NaN      12000  389.0       more         Mon  \n",
       "16                NaN      13500  389.0      about         Tue  \n",
       "17               10.0      13800  389.0      about         Wed  \n",
       "18               10.0      14000  405.0      about         Thu  >"
      ]
     },
     "execution_count": 41,
     "metadata": {},
     "output_type": "execute_result"
    }
   ],
   "source": [
    "df.head"
   ]
  },
  {
   "cell_type": "code",
   "execution_count": 42,
   "id": "991a56b0",
   "metadata": {},
   "outputs": [
    {
     "data": {
      "text/plain": [
       "0     Sat\n",
       "1     Mon\n",
       "2     Tue\n",
       "3     Wed\n",
       "4     Thu\n",
       "5     Fri\n",
       "6     Sat\n",
       "7     Sun\n",
       "8     Mon\n",
       "9     Tue\n",
       "10    Wed\n",
       "11    Thu\n",
       "12    Fri\n",
       "13    Sat\n",
       "14    Sun\n",
       "15    Mon\n",
       "16    Tue\n",
       "17    Wed\n",
       "18    Thu\n",
       "Name: Day of Week, dtype: object"
      ]
     },
     "execution_count": 42,
     "metadata": {},
     "output_type": "execute_result"
    }
   ],
   "source": [
    "df['Day of Week']"
   ]
  },
  {
   "cell_type": "code",
   "execution_count": 43,
   "id": "5ff3cdcb",
   "metadata": {},
   "outputs": [
    {
     "data": {
      "text/html": [
       "<div>\n",
       "<style scoped>\n",
       "    .dataframe tbody tr th:only-of-type {\n",
       "        vertical-align: middle;\n",
       "    }\n",
       "\n",
       "    .dataframe tbody tr th {\n",
       "        vertical-align: top;\n",
       "    }\n",
       "\n",
       "    .dataframe thead th {\n",
       "        text-align: right;\n",
       "    }\n",
       "</style>\n",
       "<table border=\"1\" class=\"dataframe\">\n",
       "  <thead>\n",
       "    <tr style=\"text-align: right;\">\n",
       "      <th></th>\n",
       "      <th>date</th>\n",
       "      <th>day</th>\n",
       "      <th>aircraft</th>\n",
       "      <th>helicopter</th>\n",
       "      <th>tank</th>\n",
       "      <th>APC</th>\n",
       "      <th>field artillery</th>\n",
       "      <th>BUK</th>\n",
       "      <th>MRL</th>\n",
       "      <th>military auto</th>\n",
       "      <th>fuel tank</th>\n",
       "      <th>drone</th>\n",
       "      <th>naval ship</th>\n",
       "      <th>anti-aircraft warfare</th>\n",
       "      <th>special equipment</th>\n",
       "      <th>personnel</th>\n",
       "      <th>POW</th>\n",
       "      <th>personnel*</th>\n",
       "      <th>Day of Week</th>\n",
       "    </tr>\n",
       "  </thead>\n",
       "  <tbody>\n",
       "    <tr>\n",
       "      <th>0</th>\n",
       "      <td>2022-02-26</td>\n",
       "      <td>3</td>\n",
       "      <td>27</td>\n",
       "      <td>26</td>\n",
       "      <td>146</td>\n",
       "      <td>706</td>\n",
       "      <td>49</td>\n",
       "      <td>1</td>\n",
       "      <td>4</td>\n",
       "      <td>30</td>\n",
       "      <td>60</td>\n",
       "      <td>2</td>\n",
       "      <td>2</td>\n",
       "      <td>0</td>\n",
       "      <td>NaN</td>\n",
       "      <td>4300</td>\n",
       "      <td>NaN</td>\n",
       "      <td>NaN</td>\n",
       "      <td>Sat</td>\n",
       "    </tr>\n",
       "  </tbody>\n",
       "</table>\n",
       "</div>"
      ],
      "text/plain": [
       "         date  day  aircraft  helicopter  tank  APC  field artillery  BUK  \\\n",
       "0  2022-02-26    3        27          26   146  706               49    1   \n",
       "\n",
       "   MRL  military auto  fuel tank  drone  naval ship  anti-aircraft warfare  \\\n",
       "0    4             30         60      2           2                      0   \n",
       "\n",
       "   special equipment  personnel  POW personnel* Day of Week  \n",
       "0                NaN       4300  NaN        NaN         Sat  "
      ]
     },
     "execution_count": 43,
     "metadata": {},
     "output_type": "execute_result"
    }
   ],
   "source": [
    "df.head(1)"
   ]
  },
  {
   "cell_type": "markdown",
   "id": "30a7605e",
   "metadata": {},
   "source": [
    "#### Find the total  number of aircrafts used and find the the day on which huge number of aircrafts used"
   ]
  },
  {
   "cell_type": "code",
   "execution_count": 44,
   "id": "5390a331",
   "metadata": {},
   "outputs": [
    {
     "data": {
      "text/plain": [
       "970"
      ]
     },
     "execution_count": 44,
     "metadata": {},
     "output_type": "execute_result"
    }
   ],
   "source": [
    "df['aircraft'].sum()"
   ]
  },
  {
   "cell_type": "code",
   "execution_count": null,
   "id": "dd46182a",
   "metadata": {},
   "outputs": [],
   "source": [
    "d"
   ]
  },
  {
   "cell_type": "code",
   "execution_count": 45,
   "id": "6e588798",
   "metadata": {},
   "outputs": [
    {
     "data": {
      "text/html": [
       "<div>\n",
       "<style scoped>\n",
       "    .dataframe tbody tr th:only-of-type {\n",
       "        vertical-align: middle;\n",
       "    }\n",
       "\n",
       "    .dataframe tbody tr th {\n",
       "        vertical-align: top;\n",
       "    }\n",
       "\n",
       "    .dataframe thead th {\n",
       "        text-align: right;\n",
       "    }\n",
       "</style>\n",
       "<table border=\"1\" class=\"dataframe\">\n",
       "  <thead>\n",
       "    <tr style=\"text-align: right;\">\n",
       "      <th></th>\n",
       "      <th>date</th>\n",
       "      <th>day</th>\n",
       "      <th>aircraft</th>\n",
       "      <th>helicopter</th>\n",
       "      <th>tank</th>\n",
       "      <th>APC</th>\n",
       "      <th>field artillery</th>\n",
       "      <th>BUK</th>\n",
       "      <th>MRL</th>\n",
       "      <th>military auto</th>\n",
       "      <th>fuel tank</th>\n",
       "      <th>drone</th>\n",
       "      <th>naval ship</th>\n",
       "      <th>anti-aircraft warfare</th>\n",
       "      <th>special equipment</th>\n",
       "      <th>personnel</th>\n",
       "      <th>POW</th>\n",
       "      <th>personnel*</th>\n",
       "      <th>Day of Week</th>\n",
       "    </tr>\n",
       "  </thead>\n",
       "  <tbody>\n",
       "    <tr>\n",
       "      <th>18</th>\n",
       "      <td>2022-03-17</td>\n",
       "      <td>22</td>\n",
       "      <td>86</td>\n",
       "      <td>108</td>\n",
       "      <td>444</td>\n",
       "      <td>1435</td>\n",
       "      <td>201</td>\n",
       "      <td>1</td>\n",
       "      <td>72</td>\n",
       "      <td>864</td>\n",
       "      <td>60</td>\n",
       "      <td>11</td>\n",
       "      <td>3</td>\n",
       "      <td>43</td>\n",
       "      <td>10.0</td>\n",
       "      <td>14000</td>\n",
       "      <td>405.0</td>\n",
       "      <td>about</td>\n",
       "      <td>Thu</td>\n",
       "    </tr>\n",
       "  </tbody>\n",
       "</table>\n",
       "</div>"
      ],
      "text/plain": [
       "          date  day  aircraft  helicopter  tank   APC  field artillery  BUK  \\\n",
       "18  2022-03-17   22        86         108   444  1435              201    1   \n",
       "\n",
       "    MRL  military auto  fuel tank  drone  naval ship  anti-aircraft warfare  \\\n",
       "18   72            864         60     11           3                     43   \n",
       "\n",
       "    special equipment  personnel    POW personnel* Day of Week  \n",
       "18               10.0      14000  405.0      about         Thu  "
      ]
     },
     "execution_count": 45,
     "metadata": {},
     "output_type": "execute_result"
    }
   ],
   "source": [
    "df[df['aircraft'] == max(df['aircraft'])]"
   ]
  },
  {
   "cell_type": "code",
   "execution_count": 46,
   "id": "d77d00fc",
   "metadata": {},
   "outputs": [
    {
     "data": {
      "text/html": [
       "<div>\n",
       "<style scoped>\n",
       "    .dataframe tbody tr th:only-of-type {\n",
       "        vertical-align: middle;\n",
       "    }\n",
       "\n",
       "    .dataframe tbody tr th {\n",
       "        vertical-align: top;\n",
       "    }\n",
       "\n",
       "    .dataframe thead th {\n",
       "        text-align: right;\n",
       "    }\n",
       "</style>\n",
       "<table border=\"1\" class=\"dataframe\">\n",
       "  <thead>\n",
       "    <tr style=\"text-align: right;\">\n",
       "      <th></th>\n",
       "      <th></th>\n",
       "      <th>count</th>\n",
       "    </tr>\n",
       "    <tr>\n",
       "      <th>aircraft</th>\n",
       "      <th>helicopter</th>\n",
       "      <th></th>\n",
       "    </tr>\n",
       "  </thead>\n",
       "  <tbody>\n",
       "    <tr>\n",
       "      <th>27</th>\n",
       "      <th>26</th>\n",
       "      <td>1</td>\n",
       "    </tr>\n",
       "    <tr>\n",
       "      <th>29</th>\n",
       "      <th>29</th>\n",
       "      <td>2</td>\n",
       "    </tr>\n",
       "    <tr>\n",
       "      <th>30</th>\n",
       "      <th>31</th>\n",
       "      <td>2</td>\n",
       "    </tr>\n",
       "    <tr>\n",
       "      <th>33</th>\n",
       "      <th>37</th>\n",
       "      <td>1</td>\n",
       "    </tr>\n",
       "    <tr>\n",
       "      <th>39</th>\n",
       "      <th>40</th>\n",
       "      <td>1</td>\n",
       "    </tr>\n",
       "    <tr>\n",
       "      <th>44</th>\n",
       "      <th>48</th>\n",
       "      <td>1</td>\n",
       "    </tr>\n",
       "    <tr>\n",
       "      <th>46</th>\n",
       "      <th>68</th>\n",
       "      <td>1</td>\n",
       "    </tr>\n",
       "    <tr>\n",
       "      <th>48</th>\n",
       "      <th>80</th>\n",
       "      <td>1</td>\n",
       "    </tr>\n",
       "    <tr>\n",
       "      <th>49</th>\n",
       "      <th>81</th>\n",
       "      <td>2</td>\n",
       "    </tr>\n",
       "    <tr>\n",
       "      <th>57</th>\n",
       "      <th>83</th>\n",
       "      <td>1</td>\n",
       "    </tr>\n",
       "    <tr>\n",
       "      <th>58</th>\n",
       "      <th>83</th>\n",
       "      <td>1</td>\n",
       "    </tr>\n",
       "    <tr>\n",
       "      <th>74</th>\n",
       "      <th>86</th>\n",
       "      <td>1</td>\n",
       "    </tr>\n",
       "    <tr>\n",
       "      <th>77</th>\n",
       "      <th>90</th>\n",
       "      <td>1</td>\n",
       "    </tr>\n",
       "    <tr>\n",
       "      <th>81</th>\n",
       "      <th>95</th>\n",
       "      <td>1</td>\n",
       "    </tr>\n",
       "    <tr>\n",
       "      <th>84</th>\n",
       "      <th>108</th>\n",
       "      <td>1</td>\n",
       "    </tr>\n",
       "    <tr>\n",
       "      <th>86</th>\n",
       "      <th>108</th>\n",
       "      <td>1</td>\n",
       "    </tr>\n",
       "  </tbody>\n",
       "</table>\n",
       "</div>"
      ],
      "text/plain": [
       "                     count\n",
       "aircraft helicopter       \n",
       "27       26              1\n",
       "29       29              2\n",
       "30       31              2\n",
       "33       37              1\n",
       "39       40              1\n",
       "44       48              1\n",
       "46       68              1\n",
       "48       80              1\n",
       "49       81              2\n",
       "57       83              1\n",
       "58       83              1\n",
       "74       86              1\n",
       "77       90              1\n",
       "81       95              1\n",
       "84       108             1\n",
       "86       108             1"
      ]
     },
     "execution_count": 46,
     "metadata": {},
     "output_type": "execute_result"
    }
   ],
   "source": [
    "df['count']=1\n",
    "a = pd.DataFrame(df.groupby(['aircraft','helicopter']).count()['count'])\n",
    "a"
   ]
  },
  {
   "cell_type": "code",
   "execution_count": null,
   "id": "7cdd228b",
   "metadata": {},
   "outputs": [],
   "source": []
  },
  {
   "cell_type": "code",
   "execution_count": 47,
   "id": "2f71001b",
   "metadata": {},
   "outputs": [],
   "source": [
    "df.drop('day',inplace=True,axis=1)\n"
   ]
  },
  {
   "cell_type": "code",
   "execution_count": 48,
   "id": "39f57633",
   "metadata": {},
   "outputs": [
    {
     "data": {
      "text/html": [
       "<div>\n",
       "<style scoped>\n",
       "    .dataframe tbody tr th:only-of-type {\n",
       "        vertical-align: middle;\n",
       "    }\n",
       "\n",
       "    .dataframe tbody tr th {\n",
       "        vertical-align: top;\n",
       "    }\n",
       "\n",
       "    .dataframe thead th {\n",
       "        text-align: right;\n",
       "    }\n",
       "</style>\n",
       "<table border=\"1\" class=\"dataframe\">\n",
       "  <thead>\n",
       "    <tr style=\"text-align: right;\">\n",
       "      <th></th>\n",
       "      <th>date</th>\n",
       "      <th>aircraft</th>\n",
       "      <th>helicopter</th>\n",
       "      <th>tank</th>\n",
       "      <th>APC</th>\n",
       "      <th>field artillery</th>\n",
       "      <th>BUK</th>\n",
       "      <th>MRL</th>\n",
       "      <th>military auto</th>\n",
       "      <th>fuel tank</th>\n",
       "      <th>drone</th>\n",
       "      <th>naval ship</th>\n",
       "      <th>anti-aircraft warfare</th>\n",
       "      <th>special equipment</th>\n",
       "      <th>personnel</th>\n",
       "      <th>POW</th>\n",
       "      <th>personnel*</th>\n",
       "      <th>Day of Week</th>\n",
       "      <th>count</th>\n",
       "    </tr>\n",
       "  </thead>\n",
       "  <tbody>\n",
       "    <tr>\n",
       "      <th>0</th>\n",
       "      <td>2022-02-26</td>\n",
       "      <td>27</td>\n",
       "      <td>26</td>\n",
       "      <td>146</td>\n",
       "      <td>706</td>\n",
       "      <td>49</td>\n",
       "      <td>1</td>\n",
       "      <td>4</td>\n",
       "      <td>30</td>\n",
       "      <td>60</td>\n",
       "      <td>2</td>\n",
       "      <td>2</td>\n",
       "      <td>0</td>\n",
       "      <td>NaN</td>\n",
       "      <td>4300</td>\n",
       "      <td>NaN</td>\n",
       "      <td>NaN</td>\n",
       "      <td>Sat</td>\n",
       "      <td>1</td>\n",
       "    </tr>\n",
       "  </tbody>\n",
       "</table>\n",
       "</div>"
      ],
      "text/plain": [
       "         date  aircraft  helicopter  tank  APC  field artillery  BUK  MRL  \\\n",
       "0  2022-02-26        27          26   146  706               49    1    4   \n",
       "\n",
       "   military auto  fuel tank  drone  naval ship  anti-aircraft warfare  \\\n",
       "0             30         60      2           2                      0   \n",
       "\n",
       "   special equipment  personnel  POW personnel* Day of Week  count  \n",
       "0                NaN       4300  NaN        NaN         Sat      1  "
      ]
     },
     "execution_count": 48,
     "metadata": {},
     "output_type": "execute_result"
    }
   ],
   "source": [
    "df.head(1)"
   ]
  },
  {
   "cell_type": "code",
   "execution_count": 49,
   "id": "6bcaa5f8",
   "metadata": {},
   "outputs": [
    {
     "data": {
      "text/html": [
       "<div>\n",
       "<style scoped>\n",
       "    .dataframe tbody tr th:only-of-type {\n",
       "        vertical-align: middle;\n",
       "    }\n",
       "\n",
       "    .dataframe tbody tr th {\n",
       "        vertical-align: top;\n",
       "    }\n",
       "\n",
       "    .dataframe thead th {\n",
       "        text-align: right;\n",
       "    }\n",
       "</style>\n",
       "<table border=\"1\" class=\"dataframe\">\n",
       "  <thead>\n",
       "    <tr style=\"text-align: right;\">\n",
       "      <th></th>\n",
       "      <th>aircraft</th>\n",
       "      <th>helicopter</th>\n",
       "      <th>tank</th>\n",
       "    </tr>\n",
       "  </thead>\n",
       "  <tbody>\n",
       "    <tr>\n",
       "      <th>0</th>\n",
       "      <td>27</td>\n",
       "      <td>26</td>\n",
       "      <td>146</td>\n",
       "    </tr>\n",
       "    <tr>\n",
       "      <th>1</th>\n",
       "      <td>29</td>\n",
       "      <td>29</td>\n",
       "      <td>150</td>\n",
       "    </tr>\n",
       "    <tr>\n",
       "      <th>2</th>\n",
       "      <td>29</td>\n",
       "      <td>29</td>\n",
       "      <td>198</td>\n",
       "    </tr>\n",
       "    <tr>\n",
       "      <th>3</th>\n",
       "      <td>30</td>\n",
       "      <td>31</td>\n",
       "      <td>211</td>\n",
       "    </tr>\n",
       "    <tr>\n",
       "      <th>4</th>\n",
       "      <td>30</td>\n",
       "      <td>31</td>\n",
       "      <td>217</td>\n",
       "    </tr>\n",
       "    <tr>\n",
       "      <th>5</th>\n",
       "      <td>33</td>\n",
       "      <td>37</td>\n",
       "      <td>251</td>\n",
       "    </tr>\n",
       "    <tr>\n",
       "      <th>6</th>\n",
       "      <td>39</td>\n",
       "      <td>40</td>\n",
       "      <td>269</td>\n",
       "    </tr>\n",
       "    <tr>\n",
       "      <th>7</th>\n",
       "      <td>44</td>\n",
       "      <td>48</td>\n",
       "      <td>285</td>\n",
       "    </tr>\n",
       "    <tr>\n",
       "      <th>8</th>\n",
       "      <td>46</td>\n",
       "      <td>68</td>\n",
       "      <td>290</td>\n",
       "    </tr>\n",
       "    <tr>\n",
       "      <th>9</th>\n",
       "      <td>48</td>\n",
       "      <td>80</td>\n",
       "      <td>303</td>\n",
       "    </tr>\n",
       "    <tr>\n",
       "      <th>10</th>\n",
       "      <td>49</td>\n",
       "      <td>81</td>\n",
       "      <td>317</td>\n",
       "    </tr>\n",
       "    <tr>\n",
       "      <th>11</th>\n",
       "      <td>49</td>\n",
       "      <td>81</td>\n",
       "      <td>335</td>\n",
       "    </tr>\n",
       "    <tr>\n",
       "      <th>12</th>\n",
       "      <td>57</td>\n",
       "      <td>83</td>\n",
       "      <td>353</td>\n",
       "    </tr>\n",
       "    <tr>\n",
       "      <th>13</th>\n",
       "      <td>58</td>\n",
       "      <td>83</td>\n",
       "      <td>362</td>\n",
       "    </tr>\n",
       "    <tr>\n",
       "      <th>14</th>\n",
       "      <td>74</td>\n",
       "      <td>86</td>\n",
       "      <td>374</td>\n",
       "    </tr>\n",
       "    <tr>\n",
       "      <th>15</th>\n",
       "      <td>77</td>\n",
       "      <td>90</td>\n",
       "      <td>389</td>\n",
       "    </tr>\n",
       "    <tr>\n",
       "      <th>16</th>\n",
       "      <td>81</td>\n",
       "      <td>95</td>\n",
       "      <td>404</td>\n",
       "    </tr>\n",
       "    <tr>\n",
       "      <th>17</th>\n",
       "      <td>84</td>\n",
       "      <td>108</td>\n",
       "      <td>430</td>\n",
       "    </tr>\n",
       "    <tr>\n",
       "      <th>18</th>\n",
       "      <td>86</td>\n",
       "      <td>108</td>\n",
       "      <td>444</td>\n",
       "    </tr>\n",
       "  </tbody>\n",
       "</table>\n",
       "</div>"
      ],
      "text/plain": [
       "    aircraft  helicopter  tank\n",
       "0         27          26   146\n",
       "1         29          29   150\n",
       "2         29          29   198\n",
       "3         30          31   211\n",
       "4         30          31   217\n",
       "5         33          37   251\n",
       "6         39          40   269\n",
       "7         44          48   285\n",
       "8         46          68   290\n",
       "9         48          80   303\n",
       "10        49          81   317\n",
       "11        49          81   335\n",
       "12        57          83   353\n",
       "13        58          83   362\n",
       "14        74          86   374\n",
       "15        77          90   389\n",
       "16        81          95   404\n",
       "17        84         108   430\n",
       "18        86         108   444"
      ]
     },
     "execution_count": 49,
     "metadata": {},
     "output_type": "execute_result"
    }
   ],
   "source": [
    " df[['aircraft','helicopter','tank']]"
   ]
  },
  {
   "cell_type": "code",
   "execution_count": 50,
   "id": "df8207a1",
   "metadata": {},
   "outputs": [
    {
     "name": "stdout",
     "output_type": "stream",
     "text": [
      "0 2022-02-26\n",
      "1 2022-02-28\n",
      "2 2022-03-01\n",
      "3 2022-03-02\n",
      "4 2022-03-03\n",
      "5 2022-03-04\n",
      "6 2022-03-05\n",
      "7 2022-03-06\n",
      "8 2022-03-07\n",
      "9 2022-03-08\n",
      "10 2022-03-09\n",
      "11 2022-03-10\n",
      "12 2022-03-11\n",
      "13 2022-03-12\n",
      "14 2022-03-13\n",
      "15 2022-03-14\n",
      "16 2022-03-15\n",
      "17 2022-03-16\n",
      "18 2022-03-17\n"
     ]
    }
   ],
   "source": [
    "for index,row in df.iterrows():\n",
    "    print(index,row['date'])"
   ]
  },
  {
   "cell_type": "code",
   "execution_count": 51,
   "id": "8d42ce51",
   "metadata": {},
   "outputs": [
    {
     "data": {
      "text/plain": [
       "29"
      ]
     },
     "execution_count": 51,
     "metadata": {},
     "output_type": "execute_result"
    }
   ],
   "source": [
    "df['aircraft'].iloc[1]"
   ]
  },
  {
   "cell_type": "code",
   "execution_count": 52,
   "id": "fa80b2ec",
   "metadata": {},
   "outputs": [
    {
     "data": {
      "text/html": [
       "<div>\n",
       "<style scoped>\n",
       "    .dataframe tbody tr th:only-of-type {\n",
       "        vertical-align: middle;\n",
       "    }\n",
       "\n",
       "    .dataframe tbody tr th {\n",
       "        vertical-align: top;\n",
       "    }\n",
       "\n",
       "    .dataframe thead th {\n",
       "        text-align: right;\n",
       "    }\n",
       "</style>\n",
       "<table border=\"1\" class=\"dataframe\">\n",
       "  <thead>\n",
       "    <tr style=\"text-align: right;\">\n",
       "      <th></th>\n",
       "      <th>date</th>\n",
       "      <th>aircraft</th>\n",
       "      <th>helicopter</th>\n",
       "      <th>tank</th>\n",
       "      <th>APC</th>\n",
       "      <th>field artillery</th>\n",
       "      <th>BUK</th>\n",
       "      <th>MRL</th>\n",
       "      <th>military auto</th>\n",
       "      <th>fuel tank</th>\n",
       "      <th>drone</th>\n",
       "      <th>naval ship</th>\n",
       "      <th>anti-aircraft warfare</th>\n",
       "      <th>special equipment</th>\n",
       "      <th>personnel</th>\n",
       "      <th>POW</th>\n",
       "      <th>personnel*</th>\n",
       "      <th>Day of Week</th>\n",
       "      <th>count</th>\n",
       "    </tr>\n",
       "  </thead>\n",
       "  <tbody>\n",
       "    <tr>\n",
       "      <th>0</th>\n",
       "      <td>2022-02-26</td>\n",
       "      <td>27</td>\n",
       "      <td>26</td>\n",
       "      <td>146</td>\n",
       "      <td>706</td>\n",
       "      <td>49</td>\n",
       "      <td>1</td>\n",
       "      <td>4</td>\n",
       "      <td>30</td>\n",
       "      <td>60</td>\n",
       "      <td>2</td>\n",
       "      <td>2</td>\n",
       "      <td>0</td>\n",
       "      <td>NaN</td>\n",
       "      <td>4300</td>\n",
       "      <td>NaN</td>\n",
       "      <td>NaN</td>\n",
       "      <td>Sat</td>\n",
       "      <td>1</td>\n",
       "    </tr>\n",
       "  </tbody>\n",
       "</table>\n",
       "</div>"
      ],
      "text/plain": [
       "         date  aircraft  helicopter  tank  APC  field artillery  BUK  MRL  \\\n",
       "0  2022-02-26        27          26   146  706               49    1    4   \n",
       "\n",
       "   military auto  fuel tank  drone  naval ship  anti-aircraft warfare  \\\n",
       "0             30         60      2           2                      0   \n",
       "\n",
       "   special equipment  personnel  POW personnel* Day of Week  count  \n",
       "0                NaN       4300  NaN        NaN         Sat      1  "
      ]
     },
     "execution_count": 52,
     "metadata": {},
     "output_type": "execute_result"
    }
   ],
   "source": [
    "df.head(1)"
   ]
  },
  {
   "cell_type": "code",
   "execution_count": 53,
   "id": "f4b08456",
   "metadata": {
    "scrolled": true
   },
   "outputs": [
    {
     "data": {
      "text/plain": [
       "0     1026.0\n",
       "1     1452.0\n",
       "2     1552.0\n",
       "3     1659.0\n",
       "4     1731.0\n",
       "5     1870.0\n",
       "6     1903.0\n",
       "7     2012.0\n",
       "8     2072.0\n",
       "9     2167.0\n",
       "10    2225.0\n",
       "11    2326.0\n",
       "12    2444.0\n",
       "13    2536.0\n",
       "14    2593.0\n",
       "15    2665.0\n",
       "16    2741.0\n",
       "17    3120.0\n",
       "18    3252.0\n",
       "dtype: float64"
      ]
     },
     "execution_count": 53,
     "metadata": {},
     "output_type": "execute_result"
    }
   ],
   "source": [
    "cols = list(df.columns.values)\n",
    "df=df.iloc[:,2:14].sum(axis = 1)\n",
    "df"
   ]
  },
  {
   "cell_type": "code",
   "execution_count": null,
   "id": "5f37cb93",
   "metadata": {},
   "outputs": [],
   "source": []
  }
 ],
 "metadata": {
  "kernelspec": {
   "display_name": "Python 3",
   "language": "python",
   "name": "python3"
  },
  "language_info": {
   "codemirror_mode": {
    "name": "ipython",
    "version": 3
   },
   "file_extension": ".py",
   "mimetype": "text/x-python",
   "name": "python",
   "nbconvert_exporter": "python",
   "pygments_lexer": "ipython3",
   "version": "3.8.8"
  }
 },
 "nbformat": 4,
 "nbformat_minor": 5
}
